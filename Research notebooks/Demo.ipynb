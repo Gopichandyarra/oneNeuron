{
 "cells": [
  {
   "cell_type": "code",
   "execution_count": 1,
   "source": [
    "import numpy as np"
   ],
   "outputs": [],
   "metadata": {}
  },
  {
   "cell_type": "code",
   "execution_count": 1,
   "source": [
    "\"\"\"\r\n",
    "Author: Gopichand\r\n",
    "Email: gopichandyarra.1@gmail.com\r\n",
    "\"\"\"\r\n",
    "\r\n",
    "\r\n",
    "from utils.model import Perceptron\r\n",
    "from utils.all_utils import prepare_data,save_plot,save_model\r\n",
    "import pandas as pd\r\n",
    "import numpy as np\r\n",
    "import logging\r\n",
    "import os\r\n",
    "\r\n",
    "logging_str = \"[%(asctime)s: %(levelname)s: %(module)s] %(message)s\"\r\n",
    "log_dir = \"logs\"\r\n",
    "os.makedirs(log_dir, exist_ok=True)\r\n",
    "logging.basicConfig(filename= os.path.join(log_dir,\"running_logs.log\"),level=logging.INFO, format=logging_str, filemode=\"a\")\r\n",
    "\r\n",
    "\r\n",
    "def main(data,eta,epochs,filename,plotfilename):\r\n",
    "    \r\n",
    "    df = pd.DataFrame(data)\r\n",
    "    logging.info(f\"This is the actual dataframe: \\n{df}\")\r\n",
    "\r\n",
    "    X,y = prepare_data(df)\r\n",
    "\r\n",
    "    model = Perceptron(eta=eta, epochs=epochs)\r\n",
    "    model.fit(X, y)\r\n",
    "\r\n",
    "    _ = model.total_loss()\r\n",
    "\r\n",
    "    save_model(model,filename=filename)\r\n",
    "    save_plot(df,plotfilename,model)\r\n",
    "\r\n",
    "if __name__=='__main__': #entry point\r\n",
    "\r\n",
    "    OR = {\r\n",
    "    \"x1\": [0,0,1,1],\r\n",
    "    \"x2\": [0,1,0,1],\r\n",
    "    \"y\": [0,1,1,1],\r\n",
    "}\r\n",
    "\r\n",
    "    ETA = 0.3 # 0 and 1\r\n",
    "    EPOCHS = 10\r\n",
    "    try:\r\n",
    "        logging.info(\">>>>> starting training >>>>>\")\r\n",
    "        main(data=OR,filename=\"or.model\", plotfilename=\"or.png\", eta=ETA, epochs=EPOCHS)\r\n",
    "        logging.info(\"<<<<< training done successfully <<<<<\\n\\n\\n\\n\\n\\n\\n\\n\\n\\n\")\r\n",
    "    except Exception as e:\r\n",
    "        logging.exception(e)\r\n",
    "        raise e"
   ],
   "outputs": [
    {
     "output_type": "stream",
     "name": "stdout",
     "text": [
      "utils package is imported\n"
     ]
    },
    {
     "output_type": "error",
     "ename": "ModuleNotFoundError",
     "evalue": "No module named 'tqdm'",
     "traceback": [
      "\u001b[1;31m---------------------------------------------------------------------------\u001b[0m",
      "\u001b[1;31mModuleNotFoundError\u001b[0m                       Traceback (most recent call last)",
      "\u001b[1;32m~\\AppData\\Local\\Temp/ipykernel_9484/591312434.py\u001b[0m in \u001b[0;36m<module>\u001b[1;34m\u001b[0m\n\u001b[0;32m      5\u001b[0m \u001b[1;33m\u001b[0m\u001b[0m\n\u001b[0;32m      6\u001b[0m \u001b[1;33m\u001b[0m\u001b[0m\n\u001b[1;32m----> 7\u001b[1;33m \u001b[1;32mfrom\u001b[0m \u001b[0mutils\u001b[0m\u001b[1;33m.\u001b[0m\u001b[0mmodel\u001b[0m \u001b[1;32mimport\u001b[0m \u001b[0mPerceptron\u001b[0m\u001b[1;33m\u001b[0m\u001b[1;33m\u001b[0m\u001b[0m\n\u001b[0m\u001b[0;32m      8\u001b[0m \u001b[1;32mfrom\u001b[0m \u001b[0mutils\u001b[0m\u001b[1;33m.\u001b[0m\u001b[0mall_utils\u001b[0m \u001b[1;32mimport\u001b[0m \u001b[0mprepare_data\u001b[0m\u001b[1;33m,\u001b[0m\u001b[0msave_plot\u001b[0m\u001b[1;33m,\u001b[0m\u001b[0msave_model\u001b[0m\u001b[1;33m\u001b[0m\u001b[1;33m\u001b[0m\u001b[0m\n\u001b[0;32m      9\u001b[0m \u001b[1;32mimport\u001b[0m \u001b[0mpandas\u001b[0m \u001b[1;32mas\u001b[0m \u001b[0mpd\u001b[0m\u001b[1;33m\u001b[0m\u001b[1;33m\u001b[0m\u001b[0m\n",
      "\u001b[1;32mc:\\Users\\CHANDU\\Desktop\\Live_demo\\oneNeuron\\utils\\model.py\u001b[0m in \u001b[0;36m<module>\u001b[1;34m\u001b[0m\n\u001b[0;32m      1\u001b[0m \u001b[1;32mimport\u001b[0m \u001b[0mnumpy\u001b[0m \u001b[1;32mas\u001b[0m \u001b[0mnp\u001b[0m\u001b[1;33m\u001b[0m\u001b[1;33m\u001b[0m\u001b[0m\n\u001b[0;32m      2\u001b[0m \u001b[1;32mimport\u001b[0m \u001b[0mlogging\u001b[0m\u001b[1;33m\u001b[0m\u001b[1;33m\u001b[0m\u001b[0m\n\u001b[1;32m----> 3\u001b[1;33m \u001b[1;32mfrom\u001b[0m \u001b[0mtqdm\u001b[0m \u001b[1;32mimport\u001b[0m \u001b[0mtqdm\u001b[0m\u001b[1;33m\u001b[0m\u001b[1;33m\u001b[0m\u001b[0m\n\u001b[0m\u001b[0;32m      4\u001b[0m \u001b[1;33m\u001b[0m\u001b[0m\n\u001b[0;32m      5\u001b[0m \u001b[1;32mclass\u001b[0m \u001b[0mPerceptron\u001b[0m\u001b[1;33m:\u001b[0m\u001b[1;33m\u001b[0m\u001b[1;33m\u001b[0m\u001b[0m\n",
      "\u001b[1;31mModuleNotFoundError\u001b[0m: No module named 'tqdm'"
     ]
    }
   ],
   "metadata": {}
  }
 ],
 "metadata": {
  "kernelspec": {
   "name": "python3",
   "display_name": "Python 3.7.11 64-bit ('oneNeuron': conda)"
  },
  "language_info": {
   "codemirror_mode": {
    "name": "ipython",
    "version": 3
   },
   "file_extension": ".py",
   "mimetype": "text/x-python",
   "name": "python",
   "nbconvert_exporter": "python",
   "pygments_lexer": "ipython3",
   "version": "3.7.11"
  },
  "interpreter": {
   "hash": "c459bceacf7b962ce96fa9fd0e42af400ad0cb38b6db56909f76c84f7741e0ea"
  }
 },
 "nbformat": 4,
 "nbformat_minor": 5
}